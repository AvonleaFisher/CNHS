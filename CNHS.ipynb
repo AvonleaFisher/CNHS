{
 "cells": [
  {
   "cell_type": "code",
   "execution_count": 35,
   "metadata": {},
   "outputs": [],
   "source": [
    "import pandas as pd\n",
    "import numpy as np\n",
    "import matplotlib.pyplot as plt\n",
    "import operator"
   ]
  },
  {
   "cell_type": "code",
   "execution_count": 36,
   "metadata": {
    "scrolled": false
   },
   "outputs": [],
   "source": [
    "df = pd.read_csv('/Users/avonleafisher/Desktop/CNHS/CNHS.csv')"
   ]
  },
  {
   "cell_type": "code",
   "execution_count": 37,
   "metadata": {},
   "outputs": [
    {
     "data": {
      "text/html": [
       "<div>\n",
       "<style scoped>\n",
       "    .dataframe tbody tr th:only-of-type {\n",
       "        vertical-align: middle;\n",
       "    }\n",
       "\n",
       "    .dataframe tbody tr th {\n",
       "        vertical-align: top;\n",
       "    }\n",
       "\n",
       "    .dataframe thead th {\n",
       "        text-align: right;\n",
       "    }\n",
       "</style>\n",
       "<table border=\"1\" class=\"dataframe\">\n",
       "  <thead>\n",
       "    <tr style=\"text-align: right;\">\n",
       "      <th></th>\n",
       "      <th>Timestamp</th>\n",
       "      <th>Participant Informed Consent</th>\n",
       "      <th>birthyear</th>\n",
       "      <th>race</th>\n",
       "      <th>ethnicity</th>\n",
       "      <th>gender</th>\n",
       "      <th>household</th>\n",
       "      <th>children</th>\n",
       "      <th>education</th>\n",
       "      <th>college</th>\n",
       "      <th>...</th>\n",
       "      <th>post_covid_housing_satisfaction</th>\n",
       "      <th>tenant_rights_workshops</th>\n",
       "      <th>childcare_required</th>\n",
       "      <th>childcare_eldercare_required</th>\n",
       "      <th>care_provider</th>\n",
       "      <th>dif_care_needed</th>\n",
       "      <th>job_lost_care</th>\n",
       "      <th>gatherings</th>\n",
       "      <th>post_covid_public_involvement</th>\n",
       "      <th>other</th>\n",
       "    </tr>\n",
       "  </thead>\n",
       "  <tbody>\n",
       "    <tr>\n",
       "      <th>0</th>\n",
       "      <td>2020/08/27 10:03:59 AM AST</td>\n",
       "      <td>Yes</td>\n",
       "      <td>9-16-64</td>\n",
       "      <td>White/Caucasian</td>\n",
       "      <td>Not of Hispanic or Latino origin;white</td>\n",
       "      <td>Female</td>\n",
       "      <td>NaN</td>\n",
       "      <td>2</td>\n",
       "      <td>Left High School, have GED</td>\n",
       "      <td>NaN</td>\n",
       "      <td>...</td>\n",
       "      <td>NaN</td>\n",
       "      <td>No</td>\n",
       "      <td>No</td>\n",
       "      <td>No</td>\n",
       "      <td>Before/After School programs on school grounds</td>\n",
       "      <td>No</td>\n",
       "      <td>No</td>\n",
       "      <td>NaN</td>\n",
       "      <td>Yes</td>\n",
       "      <td>NaN</td>\n",
       "    </tr>\n",
       "    <tr>\n",
       "      <th>1</th>\n",
       "      <td>2020/08/27 10:41:25 AM AST</td>\n",
       "      <td>Yes</td>\n",
       "      <td>9-16-64</td>\n",
       "      <td>White/Caucasian</td>\n",
       "      <td>Not of Hispanic or Latino origin;white</td>\n",
       "      <td>Female</td>\n",
       "      <td>NaN</td>\n",
       "      <td>2</td>\n",
       "      <td>Left High School, have GED</td>\n",
       "      <td>NaN</td>\n",
       "      <td>...</td>\n",
       "      <td>NaN</td>\n",
       "      <td>No</td>\n",
       "      <td>No</td>\n",
       "      <td>No</td>\n",
       "      <td>Before/After School programs on school grounds</td>\n",
       "      <td>No</td>\n",
       "      <td>No</td>\n",
       "      <td>NaN</td>\n",
       "      <td>Yes</td>\n",
       "      <td>NaN</td>\n",
       "    </tr>\n",
       "    <tr>\n",
       "      <th>2</th>\n",
       "      <td>2020/08/27 10:41:51 AM AST</td>\n",
       "      <td>Yes</td>\n",
       "      <td>9-16-64</td>\n",
       "      <td>White/Caucasian</td>\n",
       "      <td>Not of Hispanic or Latino origin;white</td>\n",
       "      <td>Female</td>\n",
       "      <td>NaN</td>\n",
       "      <td>2</td>\n",
       "      <td>Left High School, have GED</td>\n",
       "      <td>NaN</td>\n",
       "      <td>...</td>\n",
       "      <td>NaN</td>\n",
       "      <td>No</td>\n",
       "      <td>No</td>\n",
       "      <td>No</td>\n",
       "      <td>Before/After School programs on school grounds</td>\n",
       "      <td>No</td>\n",
       "      <td>No</td>\n",
       "      <td>NaN</td>\n",
       "      <td>Yes</td>\n",
       "      <td>NaN</td>\n",
       "    </tr>\n",
       "    <tr>\n",
       "      <th>3</th>\n",
       "      <td>2020/08/27 11:02:27 AM AST</td>\n",
       "      <td>Yes</td>\n",
       "      <td>10-28-51</td>\n",
       "      <td>RD</td>\n",
       "      <td>blank</td>\n",
       "      <td>Female</td>\n",
       "      <td>NaN</td>\n",
       "      <td>blank</td>\n",
       "      <td>blank</td>\n",
       "      <td>NaN</td>\n",
       "      <td>...</td>\n",
       "      <td>blank</td>\n",
       "      <td>NaN</td>\n",
       "      <td>blank</td>\n",
       "      <td>blank</td>\n",
       "      <td>NaN</td>\n",
       "      <td>NaN</td>\n",
       "      <td>blank</td>\n",
       "      <td>NaN</td>\n",
       "      <td>blank</td>\n",
       "      <td>NaN</td>\n",
       "    </tr>\n",
       "    <tr>\n",
       "      <th>4</th>\n",
       "      <td>2020/08/28 7:42:51 AM AST</td>\n",
       "      <td>Yes</td>\n",
       "      <td>1987</td>\n",
       "      <td>White/Caucasian</td>\n",
       "      <td>blank</td>\n",
       "      <td>blank</td>\n",
       "      <td>2 adults  4 children</td>\n",
       "      <td>4</td>\n",
       "      <td>College degree(s) complete</td>\n",
       "      <td>Associates degree</td>\n",
       "      <td>...</td>\n",
       "      <td>5</td>\n",
       "      <td>Yes</td>\n",
       "      <td>No</td>\n",
       "      <td>No</td>\n",
       "      <td>Friends or family</td>\n",
       "      <td>No</td>\n",
       "      <td>No</td>\n",
       "      <td>yes - sporting events</td>\n",
       "      <td>blank</td>\n",
       "      <td>NaN</td>\n",
       "    </tr>\n",
       "  </tbody>\n",
       "</table>\n",
       "<p>5 rows × 67 columns</p>\n",
       "</div>"
      ],
      "text/plain": [
       "                    Timestamp Participant Informed Consent birthyear  \\\n",
       "0  2020/08/27 10:03:59 AM AST                          Yes   9-16-64   \n",
       "1  2020/08/27 10:41:25 AM AST                          Yes   9-16-64   \n",
       "2  2020/08/27 10:41:51 AM AST                          Yes   9-16-64   \n",
       "3  2020/08/27 11:02:27 AM AST                          Yes  10-28-51   \n",
       "4   2020/08/28 7:42:51 AM AST                          Yes      1987   \n",
       "\n",
       "              race                               ethnicity  gender  \\\n",
       "0  White/Caucasian  Not of Hispanic or Latino origin;white  Female   \n",
       "1  White/Caucasian  Not of Hispanic or Latino origin;white  Female   \n",
       "2  White/Caucasian  Not of Hispanic or Latino origin;white  Female   \n",
       "3               RD                                   blank  Female   \n",
       "4  White/Caucasian                                   blank   blank   \n",
       "\n",
       "              household children                   education  \\\n",
       "0                   NaN        2  Left High School, have GED   \n",
       "1                   NaN        2  Left High School, have GED   \n",
       "2                   NaN        2  Left High School, have GED   \n",
       "3                   NaN    blank                       blank   \n",
       "4  2 adults  4 children        4  College degree(s) complete   \n",
       "\n",
       "             college  ... post_covid_housing_satisfaction  \\\n",
       "0                NaN  ...                             NaN   \n",
       "1                NaN  ...                             NaN   \n",
       "2                NaN  ...                             NaN   \n",
       "3                NaN  ...                           blank   \n",
       "4  Associates degree  ...                               5   \n",
       "\n",
       "  tenant_rights_workshops childcare_required childcare_eldercare_required  \\\n",
       "0                      No                 No                           No   \n",
       "1                      No                 No                           No   \n",
       "2                      No                 No                           No   \n",
       "3                     NaN              blank                        blank   \n",
       "4                     Yes                 No                           No   \n",
       "\n",
       "                                    care_provider dif_care_needed  \\\n",
       "0  Before/After School programs on school grounds              No   \n",
       "1  Before/After School programs on school grounds              No   \n",
       "2  Before/After School programs on school grounds              No   \n",
       "3                                             NaN             NaN   \n",
       "4                               Friends or family              No   \n",
       "\n",
       "  job_lost_care             gatherings post_covid_public_involvement other  \n",
       "0            No                    NaN                           Yes   NaN  \n",
       "1            No                    NaN                           Yes   NaN  \n",
       "2            No                    NaN                           Yes   NaN  \n",
       "3         blank                    NaN                         blank   NaN  \n",
       "4            No  yes - sporting events                         blank   NaN  \n",
       "\n",
       "[5 rows x 67 columns]"
      ]
     },
     "execution_count": 37,
     "metadata": {},
     "output_type": "execute_result"
    }
   ],
   "source": [
    "df.head()"
   ]
  },
  {
   "cell_type": "code",
   "execution_count": 38,
   "metadata": {},
   "outputs": [
    {
     "data": {
      "text/plain": [
       "Index(['Timestamp', 'Participant Informed Consent', 'birthyear', 'race',\n",
       "       'ethnicity', 'gender', 'household', 'children', 'education', 'college',\n",
       "       'residence', 'yrs_at_residence', 'bedrooms', 'bathrooms', 'rent',\n",
       "       'rent_subsidies', 'gov_benefits', 'services', 'special_needs',\n",
       "       'handicap_accessibility_needs', 'handicap_accessible',\n",
       "       'special_needs_met', 'landlord_response', 'health_insurance',\n",
       "       'insurance_provider', 'cars', 'public_transit',\n",
       "       'changed_public_transit', 'how_PT_changed', 'PT_services_needed',\n",
       "       'pre_covid_house_income', 'income_changed_post_covid',\n",
       "       'unemployment_household', 'denied_unemployment', 'stimcheck',\n",
       "       'know_why_no_stimcheck', 'sued_by_landlord', 'why_sued_by_landlord',\n",
       "       'sued_landlord', 'why_sued_landlord', 'tenant_contact',\n",
       "       'tenant_complaints', 'missed_rent', 'months_missed_rent',\n",
       "       'fin_situation_discussed', 'details_discussed', 'eviction_threat',\n",
       "       'eviction_threat_covid', 'place_to_stay_if_evicted',\n",
       "       'housing_insecurity', 'insecurity_circumstances', 'rent_affordability',\n",
       "       'future_rent_affordability', 'home_condition', 'repairs_response',\n",
       "       'landlord_resp_to_covid', 'pre_covid_housing_satisfaction',\n",
       "       'post_covid_housing_satisfaction', 'tenant_rights_workshops',\n",
       "       'childcare_required', 'childcare_eldercare_required', 'care_provider',\n",
       "       'dif_care_needed', 'job_lost_care', 'gatherings',\n",
       "       'post_covid_public_involvement', 'other'],\n",
       "      dtype='object')"
      ]
     },
     "execution_count": 38,
     "metadata": {},
     "output_type": "execute_result"
    }
   ],
   "source": [
    "df.columns"
   ]
  },
  {
   "cell_type": "code",
   "execution_count": 39,
   "metadata": {},
   "outputs": [],
   "source": [
    "df.loc[(df.race == 'Black or African American'),'race']='Black'\n",
    "df.loc[(df.race == 'White/Caucasian'),'race']='White'\n",
    "df.loc[(df.race == 'Black or African American;why?'),'race']='Black'\n",
    "df.loc[(df.race == 'Black or African American;White/Caucasian'),'race']='Black and White'\n",
    "df.loc[(df.race == 'White/Caucasian;American Indian/Alaska Native'),'race']='White and American Indian/Alaska Native'"
   ]
  },
  {
   "cell_type": "code",
   "execution_count": 40,
   "metadata": {},
   "outputs": [],
   "source": [
    "race = df.race\n",
    "race.dropna(inplace=True)\n",
    "race = race[race != '--']\n",
    "race = race[race != 'Black or African American;Sub Saharan African;American Indian/Alaska Native']\n",
    "race = race[race != '--']\n",
    "race = race[race != 'na']\n",
    "race = race[race != 'blank']"
   ]
  },
  {
   "cell_type": "code",
   "execution_count": 41,
   "metadata": {
    "scrolled": true
   },
   "outputs": [
    {
     "name": "stdout",
     "output_type": "stream",
     "text": [
      "<bound method Series.unique of 0       White\n",
      "1       White\n",
      "2       White\n",
      "3          RD\n",
      "4       White\n",
      "       ...   \n",
      "89      Black\n",
      "90      Black\n",
      "91    Bengali\n",
      "93      Black\n",
      "94      White\n",
      "Name: race, Length: 84, dtype: object>\n"
     ]
    }
   ],
   "source": [
    "print(race.unique)"
   ]
  },
  {
   "cell_type": "code",
   "execution_count": 42,
   "metadata": {},
   "outputs": [],
   "source": [
    "race.replace(to_replace=[i for i in race if len(i) > 12], value=\"Multiracial\", inplace=True)"
   ]
  },
  {
   "cell_type": "code",
   "execution_count": 43,
   "metadata": {},
   "outputs": [],
   "source": [
    "races = []\n",
    "for row in race:\n",
    "    if row not in races:\n",
    "        races.append(row)"
   ]
  },
  {
   "cell_type": "code",
   "execution_count": 44,
   "metadata": {},
   "outputs": [],
   "source": [
    "race_freqs = {}\n",
    "for r in races:\n",
    "    race_freqs[r] = 0\n",
    "    for i in race:\n",
    "        if i == r:\n",
    "            race_freqs[r] += 1"
   ]
  },
  {
   "cell_type": "code",
   "execution_count": 45,
   "metadata": {},
   "outputs": [
    {
     "data": {
      "text/plain": [
       "{'White': 20,\n",
       " 'RD': 1,\n",
       " 'Black': 43,\n",
       " 'Bengali': 9,\n",
       " 'Multiracial': 8,\n",
       " 'Muslim': 1,\n",
       " 'Afrikan': 1,\n",
       " 'American': 1}"
      ]
     },
     "execution_count": 45,
     "metadata": {},
     "output_type": "execute_result"
    }
   ],
   "source": [
    "race_freqs"
   ]
  },
  {
   "cell_type": "code",
   "execution_count": 46,
   "metadata": {},
   "outputs": [],
   "source": [
    "sorted_races = dict(sorted(race_freqs.items(), key=operator.itemgetter(1), reverse=False))"
   ]
  },
  {
   "cell_type": "code",
   "execution_count": 112,
   "metadata": {},
   "outputs": [
    {
     "data": {
      "image/png": "[encoded data removed]",
      "text/plain": [
       "<Figure size 1224x720 with 1 Axes>"
      ]
     },
     "metadata": {
      "needs_background": "light"
     },
     "output_type": "display_data"
    }
   ],
   "source": [
    "import matplotlib.pyplot as plt\n",
    "%matplotlib inline\n",
    "\n",
    "x = list(sorted_races.keys())\n",
    "y = list(sorted_races.values())\n",
    "plt.rcParams['axes.facecolor'] = 'lavender'\n",
    "plt.figure(figsize = (17,10))\n",
    "\n",
    "plt.bar(x, y, color = 'midnightblue', edgecolor='1')\n",
    "\n",
    "plt.xlabel('Race', fontsize=17, fontname='Serif')\n",
    "plt.ylabel('Number Of Respondents', fontsize=17, fontname='Serif')\n",
    "plt.xticks(fontsize=17, fontname='Serif')\n",
    "plt.yticks(fontsize=17, fontname='Serif')\n",
    "plt.title('Respondent Racial Identity', fontsize=23, fontname='Serif')\n",
    "plt.show()"
   ]
  },
  {
   "cell_type": "code",
   "execution_count": 90,
   "metadata": {},
   "outputs": [],
   "source": [
    "df.rent = df.rent[df.rent != \"Don't want to say\"]\n",
    "df.rent = df.rent[df.rent != \"blank\"]\n",
    "df.rent = df.rent[df.rent != \"I have two apts.  #1 85.00  #2 #163.00\"]\n",
    "df.rent = df.rent[df.rent != \"na\"]\n",
    "df.rent.dropna(inplace=True)"
   ]
  },
  {
   "cell_type": "code",
   "execution_count": 91,
   "metadata": {},
   "outputs": [],
   "source": [
    "rent = df.rent\n",
    "for index, value in rent.items():\n",
    "    if len(value) > 10:\n",
    "        rent.drop(index, inplace=True)\n",
    "        print(f\"Index : {index}, Value : {value}\")"
   ]
  },
  {
   "cell_type": "code",
   "execution_count": 92,
   "metadata": {},
   "outputs": [],
   "source": [
    "rent.dropna(inplace=True)\n",
    "rent = rent[rent != 'none']\n",
    "rent = rent[rent != '--']\n",
    "rent = rent[rent != '-']\n",
    "rent = rent[rent != 'what I can']\n",
    "rent = rent[rent != 'own it']\n",
    "rent = rent.replace( '[\\$,)]','', regex=True)\n",
    "rent = pd.to_numeric(rent, downcast=\"float\")"
   ]
  },
  {
   "cell_type": "code",
   "execution_count": 93,
   "metadata": {},
   "outputs": [],
   "source": [
    "rent_freqs = {'0-200': 0, '201-400': 0, '401-600': 0, '601-800': 0, '801-1000': 0 , '1001-1200': 0, 'Above 1200': 0}\n",
    "\n",
    "for r in rent:\n",
    "    type(r) == int\n",
    "    if 0 < r < 200:\n",
    "        rent_freqs['0-200'] += 1\n",
    "    if 201 < r < 400:\n",
    "        rent_freqs['401-600'] += 1\n",
    "    if 401 < r < 600:\n",
    "        rent_freqs['601-800'] += 1\n",
    "    if 801 < r < 1000:\n",
    "        rent_freqs['801-1000'] += 1\n",
    "    if 1000 < r < 1200:\n",
    "        rent_freqs['1001-1200'] += 1\n",
    "    if 1200 < r:\n",
    "        rent_freqs['Above 1200'] += 1"
   ]
  },
  {
   "cell_type": "code",
   "execution_count": 94,
   "metadata": {},
   "outputs": [
    {
     "data": {
      "text/plain": [
       "{'0-200': 13,\n",
       " '201-400': 0,\n",
       " '401-600': 17,\n",
       " '601-800': 12,\n",
       " '801-1000': 4,\n",
       " '1001-1200': 0,\n",
       " 'Above 1200': 3}"
      ]
     },
     "execution_count": 94,
     "metadata": {},
     "output_type": "execute_result"
    }
   ],
   "source": [
    "rent_freqs"
   ]
  },
  {
   "cell_type": "code",
   "execution_count": 95,
   "metadata": {},
   "outputs": [
    {
     "data": {
      "image/png": "[encoded data removed]",
      "text/plain": [
       "<Figure size 1440x1080 with 1 Axes>"
      ]
     },
     "metadata": {
      "needs_background": "light"
     },
     "output_type": "display_data"
    }
   ],
   "source": [
    "x = list(rent_freqs.keys())\n",
    "y = list(rent_freqs.values())\n",
    "plt.rcParams['axes.facecolor'] = 'lavender'\n",
    "plt.figure(figsize = (20,15))\n",
    "\n",
    "plt.barh(x, y, color = 'midnightblue', edgecolor='1')\n",
    "\n",
    "#label the axes, title, and ticks\n",
    "plt.xlabel('Number Of Respondents', fontsize=25, fontname='Serif')\n",
    "plt.ylabel('Rent Range in USD', fontsize=25, fontname='Serif')\n",
    "plt.xticks(fontsize=20, fontname='Serif')\n",
    "plt.yticks(fontsize=22, fontname='Serif')\n",
    "plt.title('Respondent Monthly Rent', fontsize=30, fontname='Serif')\n",
    "\n",
    "#display the plot\n",
    "plt.show()"
   ]
  },
  {
   "cell_type": "code",
   "execution_count": 315,
   "metadata": {},
   "outputs": [
    {
     "data": {
      "text/plain": [
       "count      65.000000\n",
       "mean      434.792297\n",
       "std       342.912628\n",
       "min         0.000000\n",
       "25%       198.000000\n",
       "50%       307.000000\n",
       "75%       560.000000\n",
       "max      1350.000000\n",
       "Name: rent, dtype: float64"
      ]
     },
     "execution_count": 315,
     "metadata": {},
     "output_type": "execute_result"
    }
   ],
   "source": [
    "rent.describe()"
   ]
  },
  {
   "cell_type": "code",
   "execution_count": 319,
   "metadata": {},
   "outputs": [],
   "source": [
    "ages = pd.Series(ages)"
   ]
  },
  {
   "cell_type": "code",
   "execution_count": 320,
   "metadata": {},
   "outputs": [
    {
     "data": {
      "text/plain": [
       "count    64.000000\n",
       "mean     50.531250\n",
       "std      16.848502\n",
       "min       9.000000\n",
       "25%      35.000000\n",
       "50%      50.000000\n",
       "75%      63.250000\n",
       "max      85.000000\n",
       "dtype: float64"
      ]
     },
     "execution_count": 320,
     "metadata": {},
     "output_type": "execute_result"
    }
   ],
   "source": [
    "ages.describe()"
   ]
  },
  {
   "cell_type": "code",
   "execution_count": 96,
   "metadata": {},
   "outputs": [],
   "source": [
    "affordable_pre = df.rent_affordability\n",
    "affordable_pre.dropna(inplace=True)\n",
    "affordable_pre = affordable_pre[affordable_pre != 'blank']\n",
    "affordable_pre = affordable_pre[affordable_pre != 'BLANK']\n",
    "affordable_pre = affordable_pre[affordable_pre != 'Good']\n",
    "affordable_pre = affordable_pre[affordable_pre != 'same as is now']\n",
    "affordable_pre = affordable_pre[affordable_pre != '\"checked\"']"
   ]
  },
  {
   "cell_type": "code",
   "execution_count": 97,
   "metadata": {},
   "outputs": [],
   "source": [
    "affordable_dict_pr = {'1': 0, '2': 0, '3': 0, '4':0, '5':0}\n",
    "for i in affordable_pre:\n",
    "    if int(i) == 1:\n",
    "        affordable_dict_pr['1'] += 1\n",
    "    if int(i) == 2:\n",
    "        affordable_dict_pr['2'] += 1\n",
    "    if int(i) == 3:\n",
    "        affordable_dict_pr['3'] += 1\n",
    "    if int(4) == 1:\n",
    "        affordable_dict_pr['4'] += 1\n",
    "    if int(5) == 1:\n",
    "        affordable_dict_pr['5'] += 1"
   ]
  },
  {
   "cell_type": "code",
   "execution_count": 98,
   "metadata": {},
   "outputs": [
    {
     "data": {
      "text/plain": [
       "{'1': 7, '2': 7, '3': 17, '4': 0, '5': 0}"
      ]
     },
     "execution_count": 98,
     "metadata": {},
     "output_type": "execute_result"
    }
   ],
   "source": [
    "affordable_dict_pr"
   ]
  },
  {
   "cell_type": "code",
   "execution_count": 99,
   "metadata": {},
   "outputs": [],
   "source": [
    "affordable_post = df.future_rent_affordability"
   ]
  },
  {
   "cell_type": "code",
   "execution_count": 100,
   "metadata": {},
   "outputs": [],
   "source": [
    "affordable_post.dropna(inplace=True)\n",
    "affordable_post = affordable_post[affordable_post != 'blank']\n",
    "affordable_post = affordable_post[affordable_post != 'BLANK']"
   ]
  },
  {
   "cell_type": "code",
   "execution_count": 101,
   "metadata": {},
   "outputs": [],
   "source": [
    "affordable_post_dict = {'1': 0, '2': 0, '3': 0, '4':0, '5':0}\n",
    "for i in affordable_post:\n",
    "    if int(i) == 1:\n",
    "        affordable_post_dict['1'] += 1\n",
    "    if int(i) == 2:\n",
    "        affordable_post_dict['2'] += 1\n",
    "    if int(i) == 3:\n",
    "        affordable_post_dict['3'] += 1\n",
    "    if int(4) == 1:\n",
    "        affordable_post_dict['4'] += 1\n",
    "    if int(5) == 1:\n",
    "        affordable_post_dict['5'] += 1"
   ]
  },
  {
   "cell_type": "code",
   "execution_count": 102,
   "metadata": {},
   "outputs": [
    {
     "data": {
      "text/plain": [
       "{'1': 10, '2': 4, '3': 15, '4': 0, '5': 0}"
      ]
     },
     "execution_count": 102,
     "metadata": {},
     "output_type": "execute_result"
    }
   ],
   "source": [
    "affordable_post_dict"
   ]
  },
  {
   "cell_type": "code",
   "execution_count": 312,
   "metadata": {
    "scrolled": false
   },
   "outputs": [
    {
     "data": {
      "text/plain": [
       "Text(0.5, 1.0, 'After')"
      ]
     },
     "execution_count": 312,
     "metadata": {},
     "output_type": "execute_result"
    },
    {
     "data": {
      "image/png": "[encoded data removed]",
      "text/plain": [
       "<Figure size 1152x576 with 2 Axes>"
      ]
     },
     "metadata": {
      "needs_background": "light"
     },
     "output_type": "display_data"
    }
   ],
   "source": [
    "x1 = list(affordable_dict_pr.keys())\n",
    "y1 = list(affordable_dict_pr.values())\n",
    "\n",
    "x2 = list(affordable_post_dict.keys())\n",
    "y2 = list(affordable_post_dict.values())\n",
    "\n",
    "fig, (ax1, ax2) = plt.subplots(1, 2, figsize=(16,8))\n",
    "fig.suptitle('Affordability of Rent Before and After COVID-19', fontname='serif', fontsize=23, y=1.08)\n",
    "plt.text(x=0.5, y=0.99, s= \"1=least affordable\", fontsize=12,fontname='serif', ha=\"center\", transform=fig.transFigure)\n",
    "plt.text(x=0.5, y=0.95, s= \"5=most affordable\", fontsize=12,fontname='serif', ha=\"center\", transform=fig.transFigure)\n",
    "plt.text(x=0.5, y=0.01, s= \"Affordability Rating\", fontsize=15,fontname='serif', ha=\"center\", transform=fig.transFigure)\n",
    "\n",
    "ax1.bar(x1, y1, color = 'midnightblue', edgecolor='1')\n",
    "ax1.set_title('Before', fontname='serif', fontsize=12)\n",
    "ax1.set_ylabel('Number of Respondents', fontname='serif', fontsize=15)\n",
    "\n",
    "ax2.bar(x2, y2, color = 'midnightblue', edgecolor='1')\n",
    "ax2.set_title('After', fontname='serif', fontsize=12)"
   ]
  },
  {
   "cell_type": "code",
   "execution_count": 126,
   "metadata": {},
   "outputs": [],
   "source": [
    "hi = df.health_insurance\n",
    "hi.dropna(inplace=True)\n",
    "hi = hi[hi != 'blank']\n",
    "hi = hi[hi != '--']\n",
    "hi = hi[hi != 'Medical']\n",
    "hi = hi[hi != 'Medicaid']"
   ]
  },
  {
   "cell_type": "code",
   "execution_count": 207,
   "metadata": {},
   "outputs": [],
   "source": [
    "sn3 = df.handicap_accessibility_needs"
   ]
  },
  {
   "cell_type": "code",
   "execution_count": 212,
   "metadata": {},
   "outputs": [
    {
     "data": {
      "text/plain": [
       "ramp                          1\n",
       "bigger places                 1\n",
       "higher toilets                1\n",
       "walker                        1\n",
       "all                           1\n",
       "grip bars, wheelchair ramp    1\n",
       "ramps, low countertops        1\n",
       "grip bars in bathroom         1\n",
       "[sic] Reading writing         1\n",
       "Name: handicap_accessibility_needs, dtype: int64"
      ]
     },
     "execution_count": 212,
     "metadata": {},
     "output_type": "execute_result"
    }
   ],
   "source": [
    "sn3.dropna(inplace=True)\n",
    "sn3 = sn3[sn3 != 'blank']\n",
    "sn3 = sn3[sn3 != '--']\n",
    "sn3 = sn3[sn3 != 'na']\n",
    "sn3 = sn3[sn3 != 'none']\n",
    "sn3 = sn3[sn3 != 'no']\n",
    "sn3 = sn3[sn3 != 'No']\n",
    "sn3 = sn3[sn3 != 'None']\n",
    "sn3 = sn3[sn3 != 'nothing']\n",
    "sn3.value_counts()"
   ]
  },
  {
   "cell_type": "code",
   "execution_count": 183,
   "metadata": {},
   "outputs": [],
   "source": [
    "sn2 = df['handicap_accessible']\n",
    "sn2.dropna(inplace=True)\n",
    "sn2 = sn2[sn2 != 'blank']\n",
    "sn2 = sn2[sn2 != '--']\n",
    "sn2 = sn2[sn2 != 'na']"
   ]
  },
  {
   "cell_type": "code",
   "execution_count": 148,
   "metadata": {},
   "outputs": [],
   "source": [
    "sn1 = df.special_needs"
   ]
  },
  {
   "cell_type": "code",
   "execution_count": 153,
   "metadata": {},
   "outputs": [],
   "source": [
    "sn.dropna(inplace=True)\n",
    "sn1 = sn1[sn1 != 'blank']\n",
    "sn1 = sn1[sn1 != '--']\n",
    "sn1 = sn1[sn1 != 'na']\n",
    "sn1 = sn1[sn1 != 'ADHD']\n",
    "sn1 = sn1[sn1 != 'Self, left ankle injury 1997']\n",
    "sn1 = sn1[sn1 != 'senior citizen']\n",
    "sn1 = sn1[sn1 != '1 senior citizen']"
   ]
  },
  {
   "cell_type": "code",
   "execution_count": 136,
   "metadata": {},
   "outputs": [],
   "source": [
    "sn = df.special_needs_met"
   ]
  },
  {
   "cell_type": "code",
   "execution_count": 144,
   "metadata": {},
   "outputs": [],
   "source": [
    "sn.dropna(inplace=True)\n",
    "sn = sn[sn != 'blank']\n",
    "sn = sn[sn != '--']\n",
    "sn = sn[sn != 'No, I just do what I can']\n",
    "sn = sn[sn != 'na']\n",
    "sn = sn[sn != 'no']"
   ]
  },
  {
   "cell_type": "code",
   "execution_count": null,
   "metadata": {},
   "outputs": [],
   "source": [
    "fig, axs = plt.subplots(2, 2)\n",
    "axs[0, 0].plot(x, y)\n",
    "axs[0, 0].set_title('Axis [0,0]')\n",
    "axs[0, 1].plot(x, y, 'tab:orange')\n",
    "axs[0, 1].set_title('Axis [0,1]')\n",
    "axs[1, 0].plot(x, -y, 'tab:green')\n",
    "axs[1, 0].set_title('Axis [1,0]')\n",
    "axs[1, 1].plot(x, -y, 'tab:red')\n",
    "axs[1, 1].set_title('Axis [1,1]')\n",
    "\n",
    "for ax in axs.flat:\n",
    "    ax.set(xlabel='x-label', ylabel='y-label')\n",
    "\n",
    "# Hide x labels and tick labels for top plots and y ticks for right plots.\n",
    "for ax in axs.flat:\n",
    "    ax.label_outer()"
   ]
  },
  {
   "cell_type": "code",
   "execution_count": 246,
   "metadata": {
    "scrolled": false
   },
   "outputs": [
    {
     "data": {
      "text/plain": [
       "Text(0, 0.5, '')"
      ]
     },
     "execution_count": 246,
     "metadata": {},
     "output_type": "execute_result"
    },
    {
     "data": {
      "image/png": "[encoded data removed]",
      "text/plain": [
       "<Figure size 1152x1152 with 4 Axes>"
      ]
     },
     "metadata": {
      "needs_background": "light"
     },
     "output_type": "display_data"
    }
   ],
   "source": [
    "fig, axs = plt.subplots(2, 2, figsize=(16, 16))\n",
    "fig.suptitle('Accessibility', fontname='serif', fontsize=20)\n",
    "axs[0, 1].set_title('Have accessibility needs (if any) been addressed by landlord/property manager?', fontname='serif', fontsize=12)\n",
    "sn.value_counts().plot(kind='pie', ax=axs[0, 1], colors = ['midnightblue'])\n",
    "axs[0, 1].set_ylabel('')\n",
    "\n",
    "axs[0, 0].set_title('Anyone with special needs in household?', fontname='serif', fontsize=12)\n",
    "sn1.value_counts().plot(kind='bar', ax=axs[0, 0], color = 'midnightblue', edgecolor='1')\n",
    "\n",
    "\n",
    "axs[1, 0].set_title('Is your home handicap accessible?', fontname='serif', fontsize=12)\n",
    "sn2.value_counts().plot(kind='bar', ax=axs[1, 0], color = 'midnightblue', edgecolor='1')\n",
    "\n",
    "\n",
    "axs[1, 0].set_title('Is your home handicap accessible?', fontname='serif', fontsize=12)\n",
    "sn2.value_counts().plot(kind='bar', ax=axs[1, 0], color = 'midnightblue', edgecolor='1')\n",
    "\n",
    "axs[1, 1].set_title('What types of handicap accessibility (if any), would be useful to you?', fontname='serif', fontsize=12)\n",
    "sn3.value_counts().plot(kind='pie', ax=axs[1, 1], colors = ['midnightblue', 'teal', 'lightsteelblue', 'slategray', 'lavender', 'indigo', 'thistle', 'lavenderblush', 'purple'])\n",
    "axs[1, 1].set_ylabel('')"
   ]
  },
  {
   "cell_type": "code",
   "execution_count": 247,
   "metadata": {},
   "outputs": [
    {
     "data": {
      "text/plain": [
       "Index(['Timestamp', 'Participant Informed Consent', 'birthyear', 'race',\n",
       "       'ethnicity', 'gender', 'household', 'children', 'education', 'college',\n",
       "       'residence', 'yrs_at_residence', 'bedrooms', 'bathrooms', 'rent',\n",
       "       'rent_subsidies', 'gov_benefits', 'services', 'special_needs',\n",
       "       'handicap_accessibility_needs', 'handicap_accessible',\n",
       "       'special_needs_met', 'landlord_response', 'health_insurance',\n",
       "       'insurance_provider', 'cars', 'public_transit',\n",
       "       'changed_public_transit', 'how_PT_changed', 'PT_services_needed',\n",
       "       'pre_covid_house_income', 'income_changed_post_covid',\n",
       "       'unemployment_household', 'denied_unemployment', 'stimcheck',\n",
       "       'know_why_no_stimcheck', 'sued_by_landlord', 'why_sued_by_landlord',\n",
       "       'sued_landlord', 'why_sued_landlord', 'tenant_contact',\n",
       "       'tenant_complaints', 'missed_rent', 'months_missed_rent',\n",
       "       'fin_situation_discussed', 'details_discussed', 'eviction_threat',\n",
       "       'eviction_threat_covid', 'place_to_stay_if_evicted',\n",
       "       'housing_insecurity', 'insecurity_circumstances', 'rent_affordability',\n",
       "       'future_rent_affordability', 'home_condition', 'repairs_response',\n",
       "       'landlord_resp_to_covid', 'pre_covid_housing_satisfaction',\n",
       "       'post_covid_housing_satisfaction', 'tenant_rights_workshops',\n",
       "       'childcare_required', 'childcare_eldercare_required', 'care_provider',\n",
       "       'dif_care_needed', 'job_lost_care', 'gatherings',\n",
       "       'post_covid_public_involvement', 'other'],\n",
       "      dtype='object')"
      ]
     },
     "execution_count": 247,
     "metadata": {},
     "output_type": "execute_result"
    }
   ],
   "source": [
    "df.columns"
   ]
  },
  {
   "cell_type": "code",
   "execution_count": 250,
   "metadata": {},
   "outputs": [],
   "source": [
    "by = df.birthyear"
   ]
  },
  {
   "cell_type": "code",
   "execution_count": 255,
   "metadata": {},
   "outputs": [],
   "source": [
    "by.dropna(inplace=True)\n",
    "by = by[by != 'blank']\n",
    "by = by[by != '--']"
   ]
  },
  {
   "cell_type": "code",
   "execution_count": 260,
   "metadata": {},
   "outputs": [],
   "source": [
    "def calc_age(year):\n",
    "    if type(year) == int:\n",
    "        age = 2020 - year\n",
    "        return age"
   ]
  },
  {
   "cell_type": "code",
   "execution_count": 268,
   "metadata": {},
   "outputs": [],
   "source": [
    "by[0] = 1964"
   ]
  },
  {
   "cell_type": "code",
   "execution_count": 270,
   "metadata": {},
   "outputs": [],
   "source": [
    "by[1] = 1964"
   ]
  },
  {
   "cell_type": "code",
   "execution_count": 273,
   "metadata": {},
   "outputs": [],
   "source": [
    "by[3] = 1951"
   ]
  },
  {
   "cell_type": "code",
   "execution_count": 285,
   "metadata": {},
   "outputs": [],
   "source": [
    "ages = []\n",
    "for i in by:\n",
    "    if len(str(i)) == 4:\n",
    "        ages.append(2020-int(i))"
   ]
  },
  {
   "cell_type": "code",
   "execution_count": 307,
   "metadata": {},
   "outputs": [],
   "source": [
    "ages_dict = {'18 or under': 0, '19-29': 0, '30-39': 0, '40-49': 0, '50-59':0, '60-69':0, '70-79':0, '80 or above':0 }\n",
    "for i in ages:\n",
    "    if i <= 18:\n",
    "        ages_dict['18 or under'] += 1\n",
    "    if 18 < i < 30:\n",
    "        ages_dict['19-29'] += 1\n",
    "    if 30 <= i < 39:\n",
    "        ages_dict['30-39'] += 1\n",
    "    if 40 <= i < 49:\n",
    "        ages_dict['40-49'] += 1\n",
    "    if 50 <= i < 59:\n",
    "        ages_dict['50-59'] += 1\n",
    "    if 60 <= i < 69:\n",
    "        ages_dict['60-69'] += 1\n",
    "    if 70 <= i < 79:\n",
    "        ages_dict['70-79'] += 1\n",
    "    if i >= 80:\n",
    "        ages_dict['80 or above'] += 1"
   ]
  },
  {
   "cell_type": "code",
   "execution_count": 308,
   "metadata": {},
   "outputs": [
    {
     "data": {
      "text/plain": [
       "{'18 or under': 1,\n",
       " '19-29': 4,\n",
       " '30-39': 13,\n",
       " '40-49': 8,\n",
       " '50-59': 14,\n",
       " '60-69': 10,\n",
       " '70-79': 4,\n",
       " '80 or above': 5}"
      ]
     },
     "execution_count": 308,
     "metadata": {},
     "output_type": "execute_result"
    }
   ],
   "source": [
    "ages_dict"
   ]
  },
  {
   "cell_type": "code",
   "execution_count": 311,
   "metadata": {},
   "outputs": [
    {
     "data": {
      "image/png": "[encoded data removed]",
      "text/plain": [
       "<Figure size 1224x720 with 1 Axes>"
      ]
     },
     "metadata": {
      "needs_background": "light"
     },
     "output_type": "display_data"
    }
   ],
   "source": [
    "x = list(ages_dict.keys())\n",
    "y = list(ages_dict.values())\n",
    "plt.rcParams['axes.facecolor'] = 'lavender'\n",
    "plt.figure(figsize = (17,10))\n",
    "\n",
    "plt.bar(x, y, color = 'midnightblue', edgecolor='1')\n",
    "\n",
    "plt.xlabel('Age (Years)', fontsize=17, fontname='Serif')\n",
    "plt.ylabel('Number Of Respondents', fontsize=17, fontname='Serif')\n",
    "plt.xticks(fontsize=17, fontname='Serif')\n",
    "plt.yticks(fontsize=17, fontname='Serif')\n",
    "plt.title('Respondent Age', fontsize=23, fontname='Serif')\n",
    "plt.show()"
   ]
  }
 ],
 "metadata": {
  "kernelspec": {
   "display_name": "Python 3",
   "language": "python",
   "name": "python3"
  },
  "language_info": {
   "codemirror_mode": {
    "name": "ipython",
    "version": 3
   },
   "file_extension": ".py",
   "mimetype": "text/x-python",
   "name": "python",
   "nbconvert_exporter": "python",
   "pygments_lexer": "ipython3",
   "version": "3.6.9"
  }
 },
 "nbformat": 4,
 "nbformat_minor": 2
}
